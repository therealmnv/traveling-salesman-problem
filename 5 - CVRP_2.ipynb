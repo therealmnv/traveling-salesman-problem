{
 "cells": [
  {
   "cell_type": "code",
   "execution_count": 1,
   "metadata": {},
   "outputs": [],
   "source": [
    "import numpy as np"
   ]
  },
  {
   "cell_type": "code",
   "execution_count": 2,
   "metadata": {},
   "outputs": [],
   "source": [
    "rnd = np.random\n",
    "rnd.seed(1000)"
   ]
  },
  {
   "cell_type": "code",
   "execution_count": 3,
   "metadata": {},
   "outputs": [],
   "source": [
    "data = [[0, 2451, 713, 1018, 1631, 1374, 2408, 213, 2571, 875],\n",
    "        [2451, 0, 1745, 1524, 831, 1240, 959, 2596, 403, 1589],\n",
    "        [713, 1745, 0, 355, 920, 803, 1737, 851, 1858, 262],\n",
    "        [1018, 1524, 355, 0, 700, 862, 1395, 1123, 1584, 466],\n",
    "        [1631, 831, 920, 700, 0, 663, 1021, 1769, 949, 796],\n",
    "        [1374, 1240, 803, 862, 663, 0, 1681, 1551, 1765, 547],\n",
    "        [2408, 959, 1737, 1395, 1021, 1681, 0, 2493, 678, 1724],\n",
    "        [213, 2596, 851, 1123, 1769, 1551, 2493, 0, 2699, 1038],\n",
    "        [2571, 403, 1858, 1584, 949, 1765, 678, 2699, 0, 1744],\n",
    "        [875, 1589, 262, 466, 796, 547, 1724, 1038, 1744, 0]]"
   ]
  },
  {
   "cell_type": "code",
   "execution_count": 4,
   "metadata": {},
   "outputs": [],
   "source": [
    "n = len(data)\n",
    "Q = 20000 # set to a large number so that vehicle capacity is not an issue\n",
    "N = [i for i in range(1, n)] \n",
    "V = [0] + N\n",
    "q = {i: rnd.randint(1, 10) for i in N}"
   ]
  },
  {
   "cell_type": "code",
   "execution_count": 5,
   "metadata": {},
   "outputs": [],
   "source": [
    "loc_x = rnd.rand(len(V))*20000\n",
    "loc_y = rnd.rand(len(V))*10000"
   ]
  },
  {
   "cell_type": "code",
   "execution_count": 6,
   "metadata": {},
   "outputs": [],
   "source": [
    "import matplotlib.pyplot as plt"
   ]
  },
  {
   "cell_type": "code",
   "execution_count": 7,
   "metadata": {},
   "outputs": [
    {
     "data": {
      "image/png": "[encoded data removed]",
      "text/plain": [
       "<Figure size 432x288 with 1 Axes>"
      ]
     },
     "metadata": {
      "needs_background": "light"
     },
     "output_type": "display_data"
    }
   ],
   "source": [
    "plt.scatter(loc_x[1:], loc_y[1:], c='b')\n",
    "for i in N:\n",
    "    plt.annotate('c%d' % (i), (loc_x[i]+300, loc_y[i]))\n",
    "plt.plot(loc_x[0], loc_y[0], c='r', marker='s')\n",
    "plt.show()"
   ]
  },
  {
   "cell_type": "code",
   "execution_count": 8,
   "metadata": {},
   "outputs": [],
   "source": [
    "A = [(i, j) for i in V for j in V if i != j]\n",
    "c = {(i, j): data[i][j] for i, j in A}"
   ]
  },
  {
   "cell_type": "code",
   "execution_count": 9,
   "metadata": {},
   "outputs": [
    {
     "data": {
      "text/plain": [
       "[(0, 1),\n",
       " (0, 2),\n",
       " (0, 3),\n",
       " (0, 4),\n",
       " (0, 5),\n",
       " (0, 6),\n",
       " (0, 7),\n",
       " (0, 8),\n",
       " (0, 9),\n",
       " (1, 0),\n",
       " (1, 2),\n",
       " (1, 3),\n",
       " (1, 4),\n",
       " (1, 5),\n",
       " (1, 6),\n",
       " (1, 7),\n",
       " (1, 8),\n",
       " (1, 9),\n",
       " (2, 0),\n",
       " (2, 1),\n",
       " (2, 3),\n",
       " (2, 4),\n",
       " (2, 5),\n",
       " (2, 6),\n",
       " (2, 7),\n",
       " (2, 8),\n",
       " (2, 9),\n",
       " (3, 0),\n",
       " (3, 1),\n",
       " (3, 2),\n",
       " (3, 4),\n",
       " (3, 5),\n",
       " (3, 6),\n",
       " (3, 7),\n",
       " (3, 8),\n",
       " (3, 9),\n",
       " (4, 0),\n",
       " (4, 1),\n",
       " (4, 2),\n",
       " (4, 3),\n",
       " (4, 5),\n",
       " (4, 6),\n",
       " (4, 7),\n",
       " (4, 8),\n",
       " (4, 9),\n",
       " (5, 0),\n",
       " (5, 1),\n",
       " (5, 2),\n",
       " (5, 3),\n",
       " (5, 4),\n",
       " (5, 6),\n",
       " (5, 7),\n",
       " (5, 8),\n",
       " (5, 9),\n",
       " (6, 0),\n",
       " (6, 1),\n",
       " (6, 2),\n",
       " (6, 3),\n",
       " (6, 4),\n",
       " (6, 5),\n",
       " (6, 7),\n",
       " (6, 8),\n",
       " (6, 9),\n",
       " (7, 0),\n",
       " (7, 1),\n",
       " (7, 2),\n",
       " (7, 3),\n",
       " (7, 4),\n",
       " (7, 5),\n",
       " (7, 6),\n",
       " (7, 8),\n",
       " (7, 9),\n",
       " (8, 0),\n",
       " (8, 1),\n",
       " (8, 2),\n",
       " (8, 3),\n",
       " (8, 4),\n",
       " (8, 5),\n",
       " (8, 6),\n",
       " (8, 7),\n",
       " (8, 9),\n",
       " (9, 0),\n",
       " (9, 1),\n",
       " (9, 2),\n",
       " (9, 3),\n",
       " (9, 4),\n",
       " (9, 5),\n",
       " (9, 6),\n",
       " (9, 7),\n",
       " (9, 8)]"
      ]
     },
     "execution_count": 9,
     "metadata": {},
     "output_type": "execute_result"
    }
   ],
   "source": [
    "A"
   ]
  },
  {
   "cell_type": "code",
   "execution_count": 10,
   "metadata": {},
   "outputs": [
    {
     "data": {
      "text/plain": [
       "{(0, 1): 2451,\n",
       " (0, 2): 713,\n",
       " (0, 3): 1018,\n",
       " (0, 4): 1631,\n",
       " (0, 5): 1374,\n",
       " (0, 6): 2408,\n",
       " (0, 7): 213,\n",
       " (0, 8): 2571,\n",
       " (0, 9): 875,\n",
       " (1, 0): 2451,\n",
       " (1, 2): 1745,\n",
       " (1, 3): 1524,\n",
       " (1, 4): 831,\n",
       " (1, 5): 1240,\n",
       " (1, 6): 959,\n",
       " (1, 7): 2596,\n",
       " (1, 8): 403,\n",
       " (1, 9): 1589,\n",
       " (2, 0): 713,\n",
       " (2, 1): 1745,\n",
       " (2, 3): 355,\n",
       " (2, 4): 920,\n",
       " (2, 5): 803,\n",
       " (2, 6): 1737,\n",
       " (2, 7): 851,\n",
       " (2, 8): 1858,\n",
       " (2, 9): 262,\n",
       " (3, 0): 1018,\n",
       " (3, 1): 1524,\n",
       " (3, 2): 355,\n",
       " (3, 4): 700,\n",
       " (3, 5): 862,\n",
       " (3, 6): 1395,\n",
       " (3, 7): 1123,\n",
       " (3, 8): 1584,\n",
       " (3, 9): 466,\n",
       " (4, 0): 1631,\n",
       " (4, 1): 831,\n",
       " (4, 2): 920,\n",
       " (4, 3): 700,\n",
       " (4, 5): 663,\n",
       " (4, 6): 1021,\n",
       " (4, 7): 1769,\n",
       " (4, 8): 949,\n",
       " (4, 9): 796,\n",
       " (5, 0): 1374,\n",
       " (5, 1): 1240,\n",
       " (5, 2): 803,\n",
       " (5, 3): 862,\n",
       " (5, 4): 663,\n",
       " (5, 6): 1681,\n",
       " (5, 7): 1551,\n",
       " (5, 8): 1765,\n",
       " (5, 9): 547,\n",
       " (6, 0): 2408,\n",
       " (6, 1): 959,\n",
       " (6, 2): 1737,\n",
       " (6, 3): 1395,\n",
       " (6, 4): 1021,\n",
       " (6, 5): 1681,\n",
       " (6, 7): 2493,\n",
       " (6, 8): 678,\n",
       " (6, 9): 1724,\n",
       " (7, 0): 213,\n",
       " (7, 1): 2596,\n",
       " (7, 2): 851,\n",
       " (7, 3): 1123,\n",
       " (7, 4): 1769,\n",
       " (7, 5): 1551,\n",
       " (7, 6): 2493,\n",
       " (7, 8): 2699,\n",
       " (7, 9): 1038,\n",
       " (8, 0): 2571,\n",
       " (8, 1): 403,\n",
       " (8, 2): 1858,\n",
       " (8, 3): 1584,\n",
       " (8, 4): 949,\n",
       " (8, 5): 1765,\n",
       " (8, 6): 678,\n",
       " (8, 7): 2699,\n",
       " (8, 9): 1744,\n",
       " (9, 0): 875,\n",
       " (9, 1): 1589,\n",
       " (9, 2): 262,\n",
       " (9, 3): 466,\n",
       " (9, 4): 796,\n",
       " (9, 5): 547,\n",
       " (9, 6): 1724,\n",
       " (9, 7): 1038,\n",
       " (9, 8): 1744}"
      ]
     },
     "execution_count": 10,
     "metadata": {},
     "output_type": "execute_result"
    }
   ],
   "source": [
    "c"
   ]
  },
  {
   "cell_type": "code",
   "execution_count": 11,
   "metadata": {},
   "outputs": [],
   "source": [
    "from docplex.mp.model import Model"
   ]
  },
  {
   "cell_type": "code",
   "execution_count": 12,
   "metadata": {},
   "outputs": [],
   "source": [
    "mdl = Model('CVRP')"
   ]
  },
  {
   "cell_type": "code",
   "execution_count": 13,
   "metadata": {},
   "outputs": [],
   "source": [
    "x = mdl.binary_var_dict(A, name='x')\n",
    "u = mdl.continuous_var_dict(N, ub=Q, name='u')"
   ]
  },
  {
   "cell_type": "code",
   "execution_count": 14,
   "metadata": {},
   "outputs": [
    {
     "data": {
      "text/plain": [
       "{(0, 1): docplex.mp.Var(type=B,name='x_0_1'),\n",
       " (0, 2): docplex.mp.Var(type=B,name='x_0_2'),\n",
       " (0, 3): docplex.mp.Var(type=B,name='x_0_3'),\n",
       " (0, 4): docplex.mp.Var(type=B,name='x_0_4'),\n",
       " (0, 5): docplex.mp.Var(type=B,name='x_0_5'),\n",
       " (0, 6): docplex.mp.Var(type=B,name='x_0_6'),\n",
       " (0, 7): docplex.mp.Var(type=B,name='x_0_7'),\n",
       " (0, 8): docplex.mp.Var(type=B,name='x_0_8'),\n",
       " (0, 9): docplex.mp.Var(type=B,name='x_0_9'),\n",
       " (1, 0): docplex.mp.Var(type=B,name='x_1_0'),\n",
       " (1, 2): docplex.mp.Var(type=B,name='x_1_2'),\n",
       " (1, 3): docplex.mp.Var(type=B,name='x_1_3'),\n",
       " (1, 4): docplex.mp.Var(type=B,name='x_1_4'),\n",
       " (1, 5): docplex.mp.Var(type=B,name='x_1_5'),\n",
       " (1, 6): docplex.mp.Var(type=B,name='x_1_6'),\n",
       " (1, 7): docplex.mp.Var(type=B,name='x_1_7'),\n",
       " (1, 8): docplex.mp.Var(type=B,name='x_1_8'),\n",
       " (1, 9): docplex.mp.Var(type=B,name='x_1_9'),\n",
       " (2, 0): docplex.mp.Var(type=B,name='x_2_0'),\n",
       " (2, 1): docplex.mp.Var(type=B,name='x_2_1'),\n",
       " (2, 3): docplex.mp.Var(type=B,name='x_2_3'),\n",
       " (2, 4): docplex.mp.Var(type=B,name='x_2_4'),\n",
       " (2, 5): docplex.mp.Var(type=B,name='x_2_5'),\n",
       " (2, 6): docplex.mp.Var(type=B,name='x_2_6'),\n",
       " (2, 7): docplex.mp.Var(type=B,name='x_2_7'),\n",
       " (2, 8): docplex.mp.Var(type=B,name='x_2_8'),\n",
       " (2, 9): docplex.mp.Var(type=B,name='x_2_9'),\n",
       " (3, 0): docplex.mp.Var(type=B,name='x_3_0'),\n",
       " (3, 1): docplex.mp.Var(type=B,name='x_3_1'),\n",
       " (3, 2): docplex.mp.Var(type=B,name='x_3_2'),\n",
       " (3, 4): docplex.mp.Var(type=B,name='x_3_4'),\n",
       " (3, 5): docplex.mp.Var(type=B,name='x_3_5'),\n",
       " (3, 6): docplex.mp.Var(type=B,name='x_3_6'),\n",
       " (3, 7): docplex.mp.Var(type=B,name='x_3_7'),\n",
       " (3, 8): docplex.mp.Var(type=B,name='x_3_8'),\n",
       " (3, 9): docplex.mp.Var(type=B,name='x_3_9'),\n",
       " (4, 0): docplex.mp.Var(type=B,name='x_4_0'),\n",
       " (4, 1): docplex.mp.Var(type=B,name='x_4_1'),\n",
       " (4, 2): docplex.mp.Var(type=B,name='x_4_2'),\n",
       " (4, 3): docplex.mp.Var(type=B,name='x_4_3'),\n",
       " (4, 5): docplex.mp.Var(type=B,name='x_4_5'),\n",
       " (4, 6): docplex.mp.Var(type=B,name='x_4_6'),\n",
       " (4, 7): docplex.mp.Var(type=B,name='x_4_7'),\n",
       " (4, 8): docplex.mp.Var(type=B,name='x_4_8'),\n",
       " (4, 9): docplex.mp.Var(type=B,name='x_4_9'),\n",
       " (5, 0): docplex.mp.Var(type=B,name='x_5_0'),\n",
       " (5, 1): docplex.mp.Var(type=B,name='x_5_1'),\n",
       " (5, 2): docplex.mp.Var(type=B,name='x_5_2'),\n",
       " (5, 3): docplex.mp.Var(type=B,name='x_5_3'),\n",
       " (5, 4): docplex.mp.Var(type=B,name='x_5_4'),\n",
       " (5, 6): docplex.mp.Var(type=B,name='x_5_6'),\n",
       " (5, 7): docplex.mp.Var(type=B,name='x_5_7'),\n",
       " (5, 8): docplex.mp.Var(type=B,name='x_5_8'),\n",
       " (5, 9): docplex.mp.Var(type=B,name='x_5_9'),\n",
       " (6, 0): docplex.mp.Var(type=B,name='x_6_0'),\n",
       " (6, 1): docplex.mp.Var(type=B,name='x_6_1'),\n",
       " (6, 2): docplex.mp.Var(type=B,name='x_6_2'),\n",
       " (6, 3): docplex.mp.Var(type=B,name='x_6_3'),\n",
       " (6, 4): docplex.mp.Var(type=B,name='x_6_4'),\n",
       " (6, 5): docplex.mp.Var(type=B,name='x_6_5'),\n",
       " (6, 7): docplex.mp.Var(type=B,name='x_6_7'),\n",
       " (6, 8): docplex.mp.Var(type=B,name='x_6_8'),\n",
       " (6, 9): docplex.mp.Var(type=B,name='x_6_9'),\n",
       " (7, 0): docplex.mp.Var(type=B,name='x_7_0'),\n",
       " (7, 1): docplex.mp.Var(type=B,name='x_7_1'),\n",
       " (7, 2): docplex.mp.Var(type=B,name='x_7_2'),\n",
       " (7, 3): docplex.mp.Var(type=B,name='x_7_3'),\n",
       " (7, 4): docplex.mp.Var(type=B,name='x_7_4'),\n",
       " (7, 5): docplex.mp.Var(type=B,name='x_7_5'),\n",
       " (7, 6): docplex.mp.Var(type=B,name='x_7_6'),\n",
       " (7, 8): docplex.mp.Var(type=B,name='x_7_8'),\n",
       " (7, 9): docplex.mp.Var(type=B,name='x_7_9'),\n",
       " (8, 0): docplex.mp.Var(type=B,name='x_8_0'),\n",
       " (8, 1): docplex.mp.Var(type=B,name='x_8_1'),\n",
       " (8, 2): docplex.mp.Var(type=B,name='x_8_2'),\n",
       " (8, 3): docplex.mp.Var(type=B,name='x_8_3'),\n",
       " (8, 4): docplex.mp.Var(type=B,name='x_8_4'),\n",
       " (8, 5): docplex.mp.Var(type=B,name='x_8_5'),\n",
       " (8, 6): docplex.mp.Var(type=B,name='x_8_6'),\n",
       " (8, 7): docplex.mp.Var(type=B,name='x_8_7'),\n",
       " (8, 9): docplex.mp.Var(type=B,name='x_8_9'),\n",
       " (9, 0): docplex.mp.Var(type=B,name='x_9_0'),\n",
       " (9, 1): docplex.mp.Var(type=B,name='x_9_1'),\n",
       " (9, 2): docplex.mp.Var(type=B,name='x_9_2'),\n",
       " (9, 3): docplex.mp.Var(type=B,name='x_9_3'),\n",
       " (9, 4): docplex.mp.Var(type=B,name='x_9_4'),\n",
       " (9, 5): docplex.mp.Var(type=B,name='x_9_5'),\n",
       " (9, 6): docplex.mp.Var(type=B,name='x_9_6'),\n",
       " (9, 7): docplex.mp.Var(type=B,name='x_9_7'),\n",
       " (9, 8): docplex.mp.Var(type=B,name='x_9_8')}"
      ]
     },
     "execution_count": 14,
     "metadata": {},
     "output_type": "execute_result"
    }
   ],
   "source": [
    "x"
   ]
  },
  {
   "cell_type": "code",
   "execution_count": 15,
   "metadata": {},
   "outputs": [
    {
     "data": {
      "text/plain": [
       "{1: docplex.mp.Var(type=C,name='u_1',ub=20000),\n",
       " 2: docplex.mp.Var(type=C,name='u_2',ub=20000),\n",
       " 3: docplex.mp.Var(type=C,name='u_3',ub=20000),\n",
       " 4: docplex.mp.Var(type=C,name='u_4',ub=20000),\n",
       " 5: docplex.mp.Var(type=C,name='u_5',ub=20000),\n",
       " 6: docplex.mp.Var(type=C,name='u_6',ub=20000),\n",
       " 7: docplex.mp.Var(type=C,name='u_7',ub=20000),\n",
       " 8: docplex.mp.Var(type=C,name='u_8',ub=20000),\n",
       " 9: docplex.mp.Var(type=C,name='u_9',ub=20000)}"
      ]
     },
     "execution_count": 15,
     "metadata": {},
     "output_type": "execute_result"
    }
   ],
   "source": [
    "u"
   ]
  },
  {
   "cell_type": "code",
   "execution_count": 16,
   "metadata": {},
   "outputs": [
    {
     "name": "stdout",
     "output_type": "stream",
     "text": [
      "Version identifier: 22.1.0.0 | 2022-03-25 | 54982fbec\n",
      "CPXPARAM_Read_DataCheck                          1\n",
      "Found incumbent of value 26508.000000 after 0.00 sec. (0.01 ticks)\n",
      "Tried aggregator 2 times.\n",
      "MIP Presolve eliminated 9 rows and 0 columns.\n",
      "MIP Presolve modified 36 coefficients.\n",
      "Aggregator did 36 substitutions.\n",
      "Reduced MIP has 54 rows, 135 columns, and 270 nonzeros.\n",
      "Reduced MIP has 90 binaries, 0 generals, 0 SOSs, and 72 indicators.\n",
      "Presolve time = 0.00 sec. (0.28 ticks)\n",
      "Probing time = 0.00 sec. (0.15 ticks)\n",
      "Tried aggregator 1 time.\n",
      "Detecting symmetries...\n",
      "Reduced MIP has 54 rows, 135 columns, and 270 nonzeros.\n",
      "Reduced MIP has 90 binaries, 0 generals, 0 SOSs, and 72 indicators.\n",
      "Presolve time = 0.00 sec. (0.18 ticks)\n",
      "Probing time = 0.00 sec. (0.15 ticks)\n",
      "Clique table members: 54.\n",
      "MIP emphasis: balance optimality and feasibility.\n",
      "MIP search method: dynamic search.\n",
      "Parallel mode: deterministic, using up to 8 threads.\n",
      "Root relaxation solution time = 0.00 sec. (0.10 ticks)\n",
      "\n",
      "        Nodes                                         Cuts/\n",
      "   Node  Left     Objective  IInf  Best Integer    Best Bound    ItCnt     Gap\n",
      "\n",
      "*     0+    0                        26508.0000        0.0000           100.00%\n",
      "      0     0     4875.0000     8    26508.0000     4875.0000        7   81.61%\n",
      "      0     0     4976.5000    14    26508.0000    Cliques: 1       11   81.23%\n",
      "      0     0     4993.0000     8    26508.0000       Cuts: 5       13   81.16%\n",
      "*     0+    0                         7814.0000     4993.0000            36.10%\n",
      "Detecting symmetries...\n",
      "      0     2     4993.0000     8     7814.0000     4993.0000       13   36.10%\n",
      "Elapsed time = 0.08 sec. (2.98 ticks, tree = 0.02 MB, solutions = 2)\n",
      "*   202    27      integral     0     7471.0000     4993.0000       80   33.17%\n",
      "*   392    71      integral     0     7259.0000     5360.0000      275   26.16%\n",
      "*   411   114      integral     0     7151.0000     5360.0000      570   25.05%\n",
      "*   959   135      integral     0     6936.0000     5417.0000      870   21.90%\n",
      "*   970   160      integral     0     6828.0000     5417.0000     1401   20.66%\n",
      "*  1123   137      integral     0     6811.0000     5495.0000     1666   19.32%\n",
      "\n",
      "Clique cuts applied:  3\n",
      "Zero-half cuts applied:  2\n",
      "Gomory fractional cuts applied:  1\n",
      "\n",
      "Root node processing (before b&c):\n",
      "  Real time             =    0.06 sec. (2.95 ticks)\n",
      "Parallel b&c, 8 threads:\n",
      "  Real time             =    0.08 sec. (8.68 ticks)\n",
      "  Sync time (average)   =    0.03 sec.\n",
      "  Wait time (average)   =    0.00 sec.\n",
      "                          ------------\n",
      "Total (root+branch&cut) =    0.14 sec. (11.63 ticks)\n"
     ]
    }
   ],
   "source": [
    "mdl.minimize(mdl.sum(c[i, j]*x[i, j] for i, j in A))\n",
    "mdl.add_constraints(mdl.sum(x[i, j] for j in V if j != i) == 1 for i in N)\n",
    "mdl.add_constraints(mdl.sum(x[i, j] for i in V if i != j) == 1 for j in N)\n",
    "mdl.add_indicator_constraints(mdl.indicator_constraint(x[i, j], u[i]+q[j] == u[j]) for i, j in A if i != 0 and j != 0)\n",
    "mdl.add_constraints(u[i] >= q[i] for i in N)\n",
    "# mdl.parameters.timelimit = 15\n",
    "solution = mdl.solve(log_output=True)"
   ]
  },
  {
   "cell_type": "code",
   "execution_count": 17,
   "metadata": {},
   "outputs": [
    {
     "name": "stdout",
     "output_type": "stream",
     "text": [
      "solution for: CVRP\n",
      "objective: 6811\n",
      "x_0_7=1\n",
      "x_1_4=1\n",
      "x_2_3=1\n",
      "x_3_6=1\n",
      "x_4_5=1\n",
      "x_5_9=1\n",
      "x_6_8=1\n",
      "x_7_2=1\n",
      "x_8_1=1\n",
      "x_9_0=1\n",
      "u_1=35.000\n",
      "u_2=17.000\n",
      "u_3=25.000\n",
      "u_4=36.000\n",
      "u_5=38.000\n",
      "u_6=26.000\n",
      "u_7=9.000\n",
      "u_8=31.000\n",
      "u_9=43.000\n",
      "\n"
     ]
    }
   ],
   "source": [
    "print(solution)"
   ]
  },
  {
   "cell_type": "code",
   "execution_count": 18,
   "metadata": {},
   "outputs": [
    {
     "data": {
      "text/plain": [
       "<JobSolveStatus.OPTIMAL_SOLUTION: 2>"
      ]
     },
     "execution_count": 18,
     "metadata": {},
     "output_type": "execute_result"
    }
   ],
   "source": [
    "solution.solve_status"
   ]
  },
  {
   "cell_type": "code",
   "execution_count": 19,
   "metadata": {},
   "outputs": [],
   "source": [
    "active_arcs = [a for a in A if x[a].solution_value > 0.9]"
   ]
  },
  {
   "cell_type": "code",
   "execution_count": 20,
   "metadata": {},
   "outputs": [
    {
     "data": {
      "image/png": "[encoded data removed]",
      "text/plain": [
       "<Figure size 432x288 with 1 Axes>"
      ]
     },
     "metadata": {
      "needs_background": "light"
     },
     "output_type": "display_data"
    }
   ],
   "source": [
    "plt.scatter(loc_x[1:], loc_y[1:], c='b')\n",
    "for i in N:\n",
    "    plt.annotate('c%d' % (i), (loc_x[i]+300, loc_y[i]))\n",
    "for i, j in active_arcs:\n",
    "    plt.plot([loc_x[i], loc_x[j]], [loc_y[i], loc_y[j]], c='g', alpha=0.3)\n",
    "plt.plot(loc_x[0], loc_y[0], c='r', marker='s')\n",
    "# plt.axis('equal')\n",
    "plt.show()"
   ]
  },
  {
   "cell_type": "code",
   "execution_count": null,
   "metadata": {},
   "outputs": [],
   "source": []
  }
 ],
 "metadata": {
  "kernelspec": {
   "display_name": "Python 3 (ipykernel)",
   "language": "python",
   "name": "python3"
  },
  "language_info": {
   "codemirror_mode": {
    "name": "ipython",
    "version": 3
   },
   "file_extension": ".py",
   "mimetype": "text/x-python",
   "name": "python",
   "nbconvert_exporter": "python",
   "pygments_lexer": "ipython3",
   "version": "3.8.8"
  }
 },
 "nbformat": 4,
 "nbformat_minor": 2
}
